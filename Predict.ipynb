{
 "cells": [
  {
   "cell_type": "code",
   "execution_count": 1,
   "metadata": {},
   "outputs": [],
   "source": [
    "import numpy as np\n",
    "import matplotlib.pyplot as plt\n",
    "import pandas as pd\n",
    "import pickle\n",
    "from librosa import core, onset, feature, display\n",
    "import soundfile as sf\n",
    "import umap\n",
    "from IPython.display import Audio\n",
    "import sklearn"
   ]
  },
  {
   "cell_type": "code",
   "execution_count": 2,
   "metadata": {},
   "outputs": [
    {
     "output_type": "execute_result",
     "data": {
      "text/plain": [
       "   file_id    genus  species\n",
       "0        1  Unknown  species"
      ],
      "text/html": "<div>\n<style scoped>\n    .dataframe tbody tr th:only-of-type {\n        vertical-align: middle;\n    }\n\n    .dataframe tbody tr th {\n        vertical-align: top;\n    }\n\n    .dataframe thead th {\n        text-align: right;\n    }\n</style>\n<table border=\"1\" class=\"dataframe\">\n  <thead>\n    <tr style=\"text-align: right;\">\n      <th></th>\n      <th>file_id</th>\n      <th>genus</th>\n      <th>species</th>\n    </tr>\n  </thead>\n  <tbody>\n    <tr>\n      <th>0</th>\n      <td>1</td>\n      <td>Unknown</td>\n      <td>species</td>\n    </tr>\n  </tbody>\n</table>\n</div>"
     },
     "metadata": {},
     "execution_count": 2
    }
   ],
   "source": [
    "df = pd.read_csv(\"./songs/predict/predict.csv\")\n",
    "df.head()"
   ]
  },
  {
   "cell_type": "code",
   "execution_count": 3,
   "metadata": {},
   "outputs": [],
   "source": [
    "def load_audio(file_id):\n",
    "    data, samplerate = sf.read(\"./songs/predict/xc\"+str(file_id)+\".flac\")\n",
    "    s = len(data)/samplerate\n",
    "    sg = feature.melspectrogram(data, sr=samplerate, hop_length=512)\n",
    "    \n",
    "    # Take mean amplitude M from frame with highest energy\n",
    "    centerpoint = np.argmax(sg.mean(axis=0))\n",
    "    M = sg[:,centerpoint].mean()\n",
    "    \n",
    "    # Filter out all frames with energy less than 5% of M\n",
    "    mask = sg.mean(axis=0)>=M/20\n",
    "\n",
    "    audio_mask = np.zeros(len(data), dtype=bool)\n",
    "    for i in range(0,len(mask)):\n",
    "        audio_mask[i*512:] = mask[i]\n",
    "    return sg, mask, data, audio_mask, samplerate"
   ]
  },
  {
   "cell_type": "code",
   "execution_count": 4,
   "metadata": {},
   "outputs": [],
   "source": [
    "df['length'] = np.zeros(len(df))\n",
    "\n",
    "waves = {}\n",
    "\n",
    "\n",
    "for file_id in df['file_id']:\n",
    "    sg, mask, data, audio_mask, sample_rate = load_audio(file_id)\n",
    "    waves[file_id] = data[audio_mask]\n",
    "    df.loc[df['file_id'] == file_id,'length'] = len(data[audio_mask])"
   ]
  },
  {
   "cell_type": "code",
   "execution_count": 5,
   "metadata": {},
   "outputs": [
    {
     "output_type": "execute_result",
     "data": {
      "text/plain": [
       "   file_id    genus  species    length  windows\n",
       "0        1  Unknown  species  116736.0       19"
      ],
      "text/html": "<div>\n<style scoped>\n    .dataframe tbody tr th:only-of-type {\n        vertical-align: middle;\n    }\n\n    .dataframe tbody tr th {\n        vertical-align: top;\n    }\n\n    .dataframe thead th {\n        text-align: right;\n    }\n</style>\n<table border=\"1\" class=\"dataframe\">\n  <thead>\n    <tr style=\"text-align: right;\">\n      <th></th>\n      <th>file_id</th>\n      <th>genus</th>\n      <th>species</th>\n      <th>length</th>\n      <th>windows</th>\n    </tr>\n  </thead>\n  <tbody>\n    <tr>\n      <th>0</th>\n      <td>1</td>\n      <td>Unknown</td>\n      <td>species</td>\n      <td>116736.0</td>\n      <td>19</td>\n    </tr>\n  </tbody>\n</table>\n</div>"
     },
     "metadata": {},
     "execution_count": 5
    }
   ],
   "source": [
    "df['windows'] = df['length'].apply(lambda x: int(x/6.144000e+03))\n",
    "df"
   ]
  },
  {
   "cell_type": "code",
   "execution_count": 6,
   "metadata": {},
   "outputs": [
    {
     "output_type": "execute_result",
     "data": {
      "text/plain": [
       "19"
      ]
     },
     "metadata": {},
     "execution_count": 6
    }
   ],
   "source": [
    "n_windows = df.groupby('species')['windows'].sum().min()\n",
    "n_windows"
   ]
  },
  {
   "cell_type": "code",
   "execution_count": 7,
   "metadata": {},
   "outputs": [],
   "source": [
    "windows = {}\n",
    "\n",
    "for file_id in df['file_id']:\n",
    "    wave = waves[file_id]\n",
    "    species = df[df['file_id']==file_id]['genus'].values[0] + \"_\" + df[df['file_id']==file_id]['species'].values[0]\n",
    "    if species not in windows:\n",
    "        windows[species] = []\n",
    "    for i in range(0, int(len(wave)/6.144000e+03)):\n",
    "        windows[species].append(wave[i:int(i+6.144000e+03)])"
   ]
  },
  {
   "cell_type": "code",
   "execution_count": 8,
   "metadata": {},
   "outputs": [],
   "source": [
    "windows_fixed = {}\n",
    "\n",
    "for species in windows.keys():\n",
    "    windows_fixed[species] = []\n",
    "    ws = windows[species]\n",
    "    index = np.random.choice(len(ws), n_windows, replace=False)\n",
    "    for i in range(0, len(ws)):\n",
    "        if i in index:\n",
    "            windows_fixed[species].append(ws[i])"
   ]
  },
  {
   "cell_type": "code",
   "execution_count": 9,
   "metadata": {},
   "outputs": [
    {
     "output_type": "stream",
     "name": "stderr",
     "text": [
      "C:\\Users\\KRISHNA PRASAD P\\AppData\\Local\\Programs\\Python\\Python37\\lib\\site-packages\\librosa\\core\\pitch.py:153: UserWarning: Trying to estimate tuning from empty frequency set.\n  warnings.warn(\"Trying to estimate tuning from empty frequency set.\")\n"
     ]
    },
    {
     "output_type": "execute_result",
     "data": {
      "text/plain": [
       "   chromogram_0_0  chromogram_0_1  chromogram_0_10  chromogram_0_11  \\\n",
       "0        0.001547        0.000367         0.000011         0.000365   \n",
       "1        0.000296        0.000083         0.000011         0.000484   \n",
       "2        0.000343        0.000093         0.000011         0.000124   \n",
       "3        0.001569        0.000367         0.000011         0.000054   \n",
       "4        0.000857        0.000213         0.000011         0.000399   \n",
       "\n",
       "   chromogram_0_12  chromogram_0_2  chromogram_0_3  chromogram_0_4  \\\n",
       "0         0.002190        0.000009        0.000011        0.000015   \n",
       "1         0.002906        0.000009        0.000011        0.000015   \n",
       "2         0.000673        0.000009        0.000011        0.000015   \n",
       "3         0.000279        0.000009        0.000011        0.000015   \n",
       "4         0.002418        0.000009        0.000011        0.000015   \n",
       "\n",
       "   chromogram_0_5  chromogram_0_6  ...  spec_centr_12  spec_centr_2  \\\n",
       "0        0.000092        0.016634  ...    3135.864570   2992.033112   \n",
       "1        0.000094        0.016739  ...    3131.321942   2991.931160   \n",
       "2        0.000095        0.016845  ...    3078.880478   2991.829314   \n",
       "3        0.000097        0.016951  ...    3070.662987   2991.727550   \n",
       "4        0.000098        0.017059  ...    3119.158780   2991.625859   \n",
       "\n",
       "   spec_centr_3  spec_centr_4  spec_centr_5  spec_centr_6  spec_centr_7  \\\n",
       "0   2949.803712   2929.013309   2789.240893   2623.994022   2707.139473   \n",
       "1   2949.730514   2928.929492   2788.884704   2623.710382   2708.032966   \n",
       "2   2949.657408   2928.844811   2788.528609   2623.426835   2708.930140   \n",
       "3   2949.584339   2928.759300   2788.172592   2623.143393   2709.830956   \n",
       "4   2949.511301   2928.672991   2787.816621   2622.860063   2710.735346   \n",
       "\n",
       "   spec_centr_8  spec_centr_9  species  \n",
       "0   3261.524923   3249.137130  species  \n",
       "1   3262.092133   3248.791819  species  \n",
       "2   3262.655859   3248.446183  species  \n",
       "3   3263.216117   3248.100236  species  \n",
       "4   3263.772931   3247.753993  species  \n",
       "\n",
       "[5 rows x 171 columns]"
      ],
      "text/html": "<div>\n<style scoped>\n    .dataframe tbody tr th:only-of-type {\n        vertical-align: middle;\n    }\n\n    .dataframe tbody tr th {\n        vertical-align: top;\n    }\n\n    .dataframe thead th {\n        text-align: right;\n    }\n</style>\n<table border=\"1\" class=\"dataframe\">\n  <thead>\n    <tr style=\"text-align: right;\">\n      <th></th>\n      <th>chromogram_0_0</th>\n      <th>chromogram_0_1</th>\n      <th>chromogram_0_10</th>\n      <th>chromogram_0_11</th>\n      <th>chromogram_0_12</th>\n      <th>chromogram_0_2</th>\n      <th>chromogram_0_3</th>\n      <th>chromogram_0_4</th>\n      <th>chromogram_0_5</th>\n      <th>chromogram_0_6</th>\n      <th>...</th>\n      <th>spec_centr_12</th>\n      <th>spec_centr_2</th>\n      <th>spec_centr_3</th>\n      <th>spec_centr_4</th>\n      <th>spec_centr_5</th>\n      <th>spec_centr_6</th>\n      <th>spec_centr_7</th>\n      <th>spec_centr_8</th>\n      <th>spec_centr_9</th>\n      <th>species</th>\n    </tr>\n  </thead>\n  <tbody>\n    <tr>\n      <th>0</th>\n      <td>0.001547</td>\n      <td>0.000367</td>\n      <td>0.000011</td>\n      <td>0.000365</td>\n      <td>0.002190</td>\n      <td>0.000009</td>\n      <td>0.000011</td>\n      <td>0.000015</td>\n      <td>0.000092</td>\n      <td>0.016634</td>\n      <td>...</td>\n      <td>3135.864570</td>\n      <td>2992.033112</td>\n      <td>2949.803712</td>\n      <td>2929.013309</td>\n      <td>2789.240893</td>\n      <td>2623.994022</td>\n      <td>2707.139473</td>\n      <td>3261.524923</td>\n      <td>3249.137130</td>\n      <td>species</td>\n    </tr>\n    <tr>\n      <th>1</th>\n      <td>0.000296</td>\n      <td>0.000083</td>\n      <td>0.000011</td>\n      <td>0.000484</td>\n      <td>0.002906</td>\n      <td>0.000009</td>\n      <td>0.000011</td>\n      <td>0.000015</td>\n      <td>0.000094</td>\n      <td>0.016739</td>\n      <td>...</td>\n      <td>3131.321942</td>\n      <td>2991.931160</td>\n      <td>2949.730514</td>\n      <td>2928.929492</td>\n      <td>2788.884704</td>\n      <td>2623.710382</td>\n      <td>2708.032966</td>\n      <td>3262.092133</td>\n      <td>3248.791819</td>\n      <td>species</td>\n    </tr>\n    <tr>\n      <th>2</th>\n      <td>0.000343</td>\n      <td>0.000093</td>\n      <td>0.000011</td>\n      <td>0.000124</td>\n      <td>0.000673</td>\n      <td>0.000009</td>\n      <td>0.000011</td>\n      <td>0.000015</td>\n      <td>0.000095</td>\n      <td>0.016845</td>\n      <td>...</td>\n      <td>3078.880478</td>\n      <td>2991.829314</td>\n      <td>2949.657408</td>\n      <td>2928.844811</td>\n      <td>2788.528609</td>\n      <td>2623.426835</td>\n      <td>2708.930140</td>\n      <td>3262.655859</td>\n      <td>3248.446183</td>\n      <td>species</td>\n    </tr>\n    <tr>\n      <th>3</th>\n      <td>0.001569</td>\n      <td>0.000367</td>\n      <td>0.000011</td>\n      <td>0.000054</td>\n      <td>0.000279</td>\n      <td>0.000009</td>\n      <td>0.000011</td>\n      <td>0.000015</td>\n      <td>0.000097</td>\n      <td>0.016951</td>\n      <td>...</td>\n      <td>3070.662987</td>\n      <td>2991.727550</td>\n      <td>2949.584339</td>\n      <td>2928.759300</td>\n      <td>2788.172592</td>\n      <td>2623.143393</td>\n      <td>2709.830956</td>\n      <td>3263.216117</td>\n      <td>3248.100236</td>\n      <td>species</td>\n    </tr>\n    <tr>\n      <th>4</th>\n      <td>0.000857</td>\n      <td>0.000213</td>\n      <td>0.000011</td>\n      <td>0.000399</td>\n      <td>0.002418</td>\n      <td>0.000009</td>\n      <td>0.000011</td>\n      <td>0.000015</td>\n      <td>0.000098</td>\n      <td>0.017059</td>\n      <td>...</td>\n      <td>3119.158780</td>\n      <td>2991.625859</td>\n      <td>2949.511301</td>\n      <td>2928.672991</td>\n      <td>2787.816621</td>\n      <td>2622.860063</td>\n      <td>2710.735346</td>\n      <td>3263.772931</td>\n      <td>3247.753993</td>\n      <td>species</td>\n    </tr>\n  </tbody>\n</table>\n<p>5 rows × 171 columns</p>\n</div>"
     },
     "metadata": {},
     "execution_count": 9
    }
   ],
   "source": [
    "new_dataset = pd.DataFrame()\n",
    "\n",
    "for species in windows_fixed.keys():\n",
    "    for i in range(0,n_windows):\n",
    "        data_point = {'species':species.split('_')[1], 'genus':species.split('_')[0]}\n",
    "        spec_centroid = feature.spectral_centroid(windows_fixed[species][i])[0]\n",
    "        chroma = feature.chroma_stft(windows_fixed[species][i], sample_rate)\n",
    "        for j in range(0,13):\n",
    "            data_point['spec_centr_'+str(j)] = spec_centroid[j]\n",
    "            for k in range(0,12):\n",
    "                data_point['chromogram_'+str(k)+\"_\"+str(j)] = chroma[k,j]\n",
    "        new_dataset = new_dataset.append(data_point,ignore_index=True)\n",
    "\n",
    "new_dataset.head()"
   ]
  },
  {
   "cell_type": "code",
   "execution_count": 10,
   "metadata": {},
   "outputs": [],
   "source": [
    "features= list(new_dataset.columns)\n",
    "features.remove('species')\n",
    "features.remove('genus')\n",
    "\n",
    "X = new_dataset[features].values"
   ]
  },
  {
   "cell_type": "code",
   "execution_count": 11,
   "metadata": {},
   "outputs": [],
   "source": [
    "loaded_model = pickle.load(open('svm.sav', 'rb'))"
   ]
  },
  {
   "cell_type": "code",
   "execution_count": 12,
   "metadata": {},
   "outputs": [
    {
     "output_type": "execute_result",
     "data": {
      "text/plain": [
       "'familiaris'"
      ]
     },
     "metadata": {},
     "execution_count": 12
    }
   ],
   "source": [
    "ans=loaded_model.predict(X)\n",
    "dic={}\n",
    "s=set(ans)\n",
    "for i in s:\n",
    "    dic[i]=sum([1 for j in list(ans) if i==j])\n",
    "dic['jadf']=12\n",
    "sol=None\n",
    "res=None\n",
    "for i in dic.items():\n",
    "    if sol is None or sol<i[1]:\n",
    "        sol=i[1]\n",
    "        res=i[0]\n",
    "res"
   ]
  },
  {
   "cell_type": "code",
   "execution_count": 13,
   "metadata": {},
   "outputs": [],
   "source": [
    "loaded_model = pickle.load(open('naive.sav', 'rb'))"
   ]
  },
  {
   "cell_type": "code",
   "execution_count": 14,
   "metadata": {},
   "outputs": [
    {
     "output_type": "execute_result",
     "data": {
      "text/plain": [
       "'trochilus'"
      ]
     },
     "metadata": {},
     "execution_count": 14
    }
   ],
   "source": [
    "ans=loaded_model.predict(X)\n",
    "dic={}\n",
    "s=set(ans)\n",
    "for i in s:\n",
    "    dic[i]=sum([1 for j in list(ans) if i==j])\n",
    "dic['jadf']=12\n",
    "sol=None\n",
    "res=None\n",
    "for i in dic.items():\n",
    "    if sol is None or sol<i[1]:\n",
    "        sol=i[1]\n",
    "        res=i[0]\n",
    "res"
   ]
  },
  {
   "cell_type": "code",
   "execution_count": null,
   "metadata": {},
   "outputs": [],
   "source": []
  },
  {
   "cell_type": "code",
   "execution_count": null,
   "metadata": {},
   "outputs": [],
   "source": []
  },
  {
   "cell_type": "code",
   "execution_count": null,
   "metadata": {},
   "outputs": [],
   "source": []
  },
  {
   "cell_type": "code",
   "execution_count": null,
   "metadata": {},
   "outputs": [],
   "source": []
  },
  {
   "cell_type": "code",
   "execution_count": null,
   "metadata": {},
   "outputs": [],
   "source": []
  }
 ],
 "metadata": {
  "kernelspec": {
   "name": "python37764bit20a5c1df4e324a2b9f7d8c31daaaa686",
   "display_name": "Python 3.7.7 64-bit"
  },
  "language_info": {
   "codemirror_mode": {
    "name": "ipython",
    "version": 3
   },
   "file_extension": ".py",
   "mimetype": "text/x-python",
   "name": "python",
   "nbconvert_exporter": "python",
   "pygments_lexer": "ipython3",
   "version": "3.7.7"
  },
  "metadata": {
   "interpreter": {
    "hash": "2724d6f7fa1aa1da672e4bc096e6c4a70d95e5c521827221900f10d22ea11a71"
   }
  }
 },
 "nbformat": 4,
 "nbformat_minor": 2
}